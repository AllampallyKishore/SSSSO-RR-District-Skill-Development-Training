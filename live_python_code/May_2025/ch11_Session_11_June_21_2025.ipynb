{
 "cells": [
  {
   "cell_type": "markdown",
   "id": "1ad5f8c5",
   "metadata": {},
   "source": [
    "Chapter 11 : Exception Handling"
   ]
  },
  {
   "cell_type": "code",
   "execution_count": null,
   "id": "b237dd06",
   "metadata": {},
   "outputs": [
    {
     "name": "stdout",
     "output_type": "stream",
     "text": [
      "Cannot divide by zero\n"
     ]
    }
   ],
   "source": [
    "# Example 1: Basic try-except\n",
    "\n",
    "try:\n",
    "  x = 1 / 0\n",
    "except ZeroDivisionError:\n",
    "  print(\"Cannot divide by zero\")"
   ]
  },
  {
   "cell_type": "code",
   "execution_count": 8,
   "id": "e8ed95f0",
   "metadata": {},
   "outputs": [
    {
     "ename": "ZeroDivisionError",
     "evalue": "division by zero",
     "output_type": "error",
     "traceback": [
      "\u001b[31m---------------------------------------------------------------------------\u001b[39m",
      "\u001b[31mZeroDivisionError\u001b[39m                         Traceback (most recent call last)",
      "\u001b[36mCell\u001b[39m\u001b[36m \u001b[39m\u001b[32mIn[8]\u001b[39m\u001b[32m, line 1\u001b[39m\n\u001b[32m----> \u001b[39m\u001b[32m1\u001b[39m x = \u001b[32;43m1\u001b[39;49m\u001b[43m \u001b[49m\u001b[43m/\u001b[49m\u001b[43m \u001b[49m\u001b[32;43m0\u001b[39;49m\n",
      "\u001b[31mZeroDivisionError\u001b[39m: division by zero"
     ]
    }
   ],
   "source": [
    "x = 1 / 0"
   ]
  },
  {
   "cell_type": "code",
   "execution_count": null,
   "id": "575b8c2a",
   "metadata": {},
   "outputs": [
    {
     "name": "stdout",
     "output_type": "stream",
     "text": [
      "Error: invalid literal for int() with base 10: 'abc'\n"
     ]
    }
   ],
   "source": [
    "# Example 2: Catching multiple exceptions\n",
    "\n",
    "# A try block either raises one exception, or none at all.\n",
    "# The except clause handles only the one exception that was actually raised.\n",
    "# Python doesn't raise multiple exceptions at the same time from a single expression.\n",
    "# The following is a way to catch one of multiple possible exceptions.\n",
    "\n",
    "\n",
    "try:\n",
    "  int(\"abc\")\n",
    "except (ValueError, TypeError) as e:\n",
    "  print(f\"Error: {e}\")"
   ]
  },
  {
   "cell_type": "code",
   "execution_count": null,
   "id": "4b687b48",
   "metadata": {},
   "outputs": [
    {
     "name": "stdout",
     "output_type": "stream",
     "text": [
      "No error\n"
     ]
    }
   ],
   "source": [
    "# Example 3: Using else block\n",
    "# The else block runs if the try block does not raise an exception.\n",
    "try:\n",
    "  x = 10\n",
    "except:\n",
    "  print(\"Error\")\n",
    "else:\n",
    "  print(\"No error\")"
   ]
  },
  {
   "cell_type": "code",
   "execution_count": null,
   "id": "00efeb53",
   "metadata": {},
   "outputs": [
    {
     "name": "stdout",
     "output_type": "stream",
     "text": [
      "File not found\n",
      "Finished\n"
     ]
    }
   ],
   "source": [
    "# Example 4: Finally block\n",
    "# The finally block always runs, regardless of whether an exception was raised or not.\n",
    "# It is often used for cleanup actions, like closing files or releasing resources.\n",
    "\n",
    "# Difference between else and finally:\n",
    "# The else block runs only if the try block succeeds without exceptions.\n",
    "# The finally block runs no matter what, even if an exception occurs.\n",
    "\n",
    "try:\n",
    "  f = open(\"file.txt\")\n",
    "except FileNotFoundError:\n",
    "  print(\"File not found\")\n",
    "finally:\n",
    "  print(\"Finished\")"
   ]
  },
  {
   "cell_type": "code",
   "execution_count": 11,
   "id": "bfc8020d",
   "metadata": {},
   "outputs": [
    {
     "ename": "ValueError",
     "evalue": "Negative value not allowed",
     "output_type": "error",
     "traceback": [
      "\u001b[31m---------------------------------------------------------------------------\u001b[39m",
      "\u001b[31mValueError\u001b[39m                                Traceback (most recent call last)",
      "\u001b[36mCell\u001b[39m\u001b[36m \u001b[39m\u001b[32mIn[11]\u001b[39m\u001b[32m, line 4\u001b[39m\n\u001b[32m      2\u001b[39m x = -\u001b[32m1\u001b[39m\n\u001b[32m      3\u001b[39m \u001b[38;5;28;01mif\u001b[39;00m x < \u001b[32m0\u001b[39m:\n\u001b[32m----> \u001b[39m\u001b[32m4\u001b[39m   \u001b[38;5;28;01mraise\u001b[39;00m \u001b[38;5;167;01mValueError\u001b[39;00m(\u001b[33m\"\u001b[39m\u001b[33mNegative value not allowed\u001b[39m\u001b[33m\"\u001b[39m)\n",
      "\u001b[31mValueError\u001b[39m: Negative value not allowed"
     ]
    }
   ],
   "source": [
    "# Example 5: Raising exceptions manually\n",
    "x = -1\n",
    "if x < 0:\n",
    "  raise ValueError(\"Negative value not allowed\")"
   ]
  },
  {
   "cell_type": "code",
   "execution_count": null,
   "id": "6ed82da4",
   "metadata": {},
   "outputs": [
    {
     "name": "stdout",
     "output_type": "stream",
     "text": [
      "First Error : Custom error occurred: User chose to quit.\n"
     ]
    },
    {
     "ename": "CustomFileQuitError",
     "evalue": "Second Error : User chose to quit.",
     "output_type": "error",
     "traceback": [
      "\u001b[31m---------------------------------------------------------------------------\u001b[39m",
      "\u001b[31mCustomFileQuitError\u001b[39m                       Traceback (most recent call last)",
      "\u001b[36mCell\u001b[39m\u001b[36m \u001b[39m\u001b[32mIn[19]\u001b[39m\u001b[32m, line 19\u001b[39m\n\u001b[32m     15\u001b[39m     \u001b[38;5;28mprint\u001b[39m(\u001b[33mf\u001b[39m\u001b[33m\"\u001b[39m\u001b[33mFirst Error : Custom error occurred: \u001b[39m\u001b[38;5;132;01m{\u001b[39;00me\u001b[38;5;132;01m}\u001b[39;00m\u001b[33m\"\u001b[39m)\n\u001b[32m     18\u001b[39m \u001b[38;5;28;01mif\u001b[39;00m x == \u001b[33m'\u001b[39m\u001b[33mq\u001b[39m\u001b[33m'\u001b[39m:\n\u001b[32m---> \u001b[39m\u001b[32m19\u001b[39m     \u001b[38;5;28;01mraise\u001b[39;00m CustomFileQuitError(\u001b[33m\"\u001b[39m\u001b[33mSecond Error : User chose to quit.\u001b[39m\u001b[33m\"\u001b[39m)\n",
      "\u001b[31mCustomFileQuitError\u001b[39m: Second Error : User chose to quit."
     ]
    }
   ],
   "source": [
    "# Example 6: Custom exceptions\n",
    "class CustomFileQuitError(Exception):\n",
    "    \"\"\"Custom exception class for specific error handling.\"\"\"\n",
    "    pass\n",
    "\n",
    "x = input(\"Enter a value (or 'q' to quit): \")\n",
    "\n",
    "try:\n",
    "    if x == 'q':\n",
    "        raise CustomFileQuitError(\"User chose to quit.\")\n",
    "    else:\n",
    "        print(f\"You entered: {x}\")\n",
    "        print(\"Code will continue to run.\")\n",
    "except CustomFileQuitError as e:\n",
    "    print(f\"First Error : Custom error occurred: {e}\")\n",
    "\n",
    "\n",
    "if x == 'q':\n",
    "    raise CustomFileQuitError(\"Second Error : User chose to quit.\")\n",
    "\n",
    "# In the above code, the first exception is caught and handled,\n",
    "# but the second one is raised after the try-except block,\n",
    "# which will not be caught by the previous except clause.\n",
    "\n",
    "# This demonstrates that exceptions can be raised at any point in the code.\n",
    "# If an exception is raised outside of a try-except block,\n",
    "# it will propagate up the call stack until it is caught by an appropriate handler,\n",
    "# or it will terminate the program if uncaught."
   ]
  },
  {
   "cell_type": "code",
   "execution_count": 20,
   "id": "9f7347bd",
   "metadata": {},
   "outputs": [
    {
     "name": "stdout",
     "output_type": "stream",
     "text": [
      "Inner error\n"
     ]
    }
   ],
   "source": [
    "# Example 7: Nested try-except\n",
    "try:\n",
    "  try:\n",
    "    x = 1 / 0\n",
    "  except ZeroDivisionError:\n",
    "    print(\"Inner error\")\n",
    "except:\n",
    "  print(\"Outer error\")"
   ]
  },
  {
   "cell_type": "code",
   "execution_count": 22,
   "id": "62d1bc19",
   "metadata": {},
   "outputs": [
    {
     "ename": "AssertionError",
     "evalue": "x should be greater than 10",
     "output_type": "error",
     "traceback": [
      "\u001b[31m---------------------------------------------------------------------------\u001b[39m",
      "\u001b[31mAssertionError\u001b[39m                            Traceback (most recent call last)",
      "\u001b[36mCell\u001b[39m\u001b[36m \u001b[39m\u001b[32mIn[22]\u001b[39m\u001b[32m, line 3\u001b[39m\n\u001b[32m      1\u001b[39m \u001b[38;5;66;03m# Example 8: Using assert\u001b[39;00m\n\u001b[32m      2\u001b[39m x = \u001b[32m5\u001b[39m\n\u001b[32m----> \u001b[39m\u001b[32m3\u001b[39m \u001b[38;5;28;01massert\u001b[39;00m x > \u001b[32m10\u001b[39m, \u001b[33m\"\u001b[39m\u001b[33mx should be greater than 10\u001b[39m\u001b[33m\"\u001b[39m\n\u001b[32m      5\u001b[39m \u001b[38;5;66;03m# The assert statement raises an AssertionError if the condition is false.\u001b[39;00m\n\u001b[32m      6\u001b[39m \u001b[38;5;66;03m# It is often used for debugging purposes to check conditions that should always be true.\u001b[39;00m\n\u001b[32m      7\u001b[39m \u001b[38;5;66;03m# If the condition is false, it raises an AssertionError with the provided message.\u001b[39;00m\n\u001b[32m   (...)\u001b[39m\u001b[32m     30\u001b[39m \u001b[38;5;66;03m# 1. Use try-except blocks to catch and handle exceptions gracefully.\u001b[39;00m\n\u001b[32m     31\u001b[39m \u001b[38;5;66;03m# 2. Use specific exception types to catch known errors.\u001b[39;00m\n",
      "\u001b[31mAssertionError\u001b[39m: x should be greater than 10"
     ]
    }
   ],
   "source": [
    "# Example 8: Using assert\n",
    "x = 5\n",
    "assert x > 10, \"x should be greater than 10\"\n",
    "\n",
    "# The assert statement raises an AssertionError if the condition is false.\n",
    "# It is often used for debugging purposes to check conditions that should always be true.\n",
    "# If the condition is false, it raises an AssertionError with the provided message.\n",
    "\n",
    "# When using assert, it is important to note that assertions can be globally disabled with the -O (optimize) flag when running Python scripts.\n",
    "# This means that assertions should not be used for runtime error handling or input validation,\n",
    "# but rather for conditions that should never occur in a correctly functioning program.\n",
    "\n",
    "# Difference between assert and raise:\n",
    "# - assert is used to check conditions that should always be true during development and debugging.\n",
    "# - raise is used to explicitly raise exceptions when an error condition occurs in the program.\n",
    "# Assertions can be disabled, while raised exceptions will always be checked at runtime.\n",
    "\n",
    "# Difference between assert and sys.exit(0):\n",
    "# - assert is used to check conditions and raise an AssertionError if the condition is false.\n",
    "# - sys.exit(0) is used to terminate the program gracefully, returning a status code (0 indicates success).\n",
    "# sys.exit() does not raise an exception; it simply exits the program.\n",
    "# It is often used to exit from a script or program when a certain condition is met, without raising an error.\n",
    "\n",
    "# When to use assert vs when to use sys.exit(0):\n",
    "# - Use assert when you want to check conditions that should always be true during development and debugging.\n",
    "# - Use sys.exit(0) when you want to terminate the program gracefully, especially in scripts or command-line applications.\n",
    "#   It is not used for error handling but rather for normal program termination.\n",
    "\n",
    "# Ideal way to handle errors in Python:\n",
    "# 1. Use try-except blocks to catch and handle exceptions gracefully.\n",
    "# 2. Use specific exception types to catch known errors.\n",
    "\n"
   ]
  },
  {
   "cell_type": "code",
   "execution_count": null,
   "id": "118f465a",
   "metadata": {},
   "outputs": [],
   "source": [
    "# Example 9: Re-raising exception\n",
    "try:\n",
    "  raise ValueError(\"Invalid input\")\n",
    "except ValueError as e:\n",
    "  print(\"Caught\")\n",
    "  raise"
   ]
  },
  {
   "cell_type": "code",
   "execution_count": null,
   "id": "19ecf3ad",
   "metadata": {},
   "outputs": [],
   "source": [
    "# Example 10: Logging exceptions\n",
    "import logging\n",
    "try:\n",
    "  1 / 0\n",
    "except ZeroDivisionError as e:\n",
    "  logging.error(\"Exception occurred\", exc_info=True)"
   ]
  }
 ],
 "metadata": {
  "kernelspec": {
   "display_name": "Python 3",
   "language": "python",
   "name": "python3"
  },
  "language_info": {
   "codemirror_mode": {
    "name": "ipython",
    "version": 3
   },
   "file_extension": ".py",
   "mimetype": "text/x-python",
   "name": "python",
   "nbconvert_exporter": "python",
   "pygments_lexer": "ipython3",
   "version": "3.13.4"
  }
 },
 "nbformat": 4,
 "nbformat_minor": 5
}
