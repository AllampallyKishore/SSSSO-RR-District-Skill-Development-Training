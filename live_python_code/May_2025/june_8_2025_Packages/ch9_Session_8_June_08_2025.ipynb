{
 "cells": [
  {
   "cell_type": "code",
   "execution_count": 8,
   "id": "c7a8820e",
   "metadata": {},
   "outputs": [
    {
     "name": "stdout",
     "output_type": "stream",
     "text": [
      "['__builtins__', '__cached__', '__doc__', '__file__', '__loader__', '__name__', '__package__', '__path__', '__spec__']\n"
     ]
    }
   ],
   "source": [
    "import Demo_Project\n",
    "print(dir(Demo_Project))"
   ]
  },
  {
   "cell_type": "code",
   "execution_count": 9,
   "id": "161c6a14",
   "metadata": {},
   "outputs": [
    {
     "name": "stdout",
     "output_type": "stream",
     "text": [
      "['__builtins__', '__cached__', '__doc__', '__file__', '__loader__', '__name__', '__package__', '__path__', '__spec__']\n"
     ]
    }
   ],
   "source": [
    "# my_utils internally not importing any other modules\n",
    "\n",
    "import Demo_Project.my_utils\n",
    "print(dir(Demo_Project))"
   ]
  },
  {
   "cell_type": "code",
   "execution_count": 10,
   "id": "11bcacb9",
   "metadata": {},
   "outputs": [
    {
     "name": "stdout",
     "output_type": "stream",
     "text": [
      "['__builtins__', '__cached__', '__doc__', '__file__', '__loader__', '__name__', '__package__', '__path__', '__spec__', 'math_functions']\n"
     ]
    }
   ],
   "source": [
    "# math_functions internally not importing any other modules\n",
    "\n",
    "import Demo_Project.math_functions\n",
    "print(dir(Demo_Project))"
   ]
  },
  {
   "cell_type": "markdown",
   "id": "8fe685a0",
   "metadata": {},
   "source": [
    "### from_keyword_demo.py internally importing other modules:\n",
    "    ### from math_functions import addition\n",
    "    ### from math_function_copy import addition as add, addition_copy\n",
    "\n",
    "Detailed Explanation Provided in this link : https://saikrishnavadali05.github.io/TechTreasure/Python_Programming/09-Modules-and-Packages/packages-issues.html "
   ]
  },
  {
   "cell_type": "code",
   "execution_count": 14,
   "id": "01d21a55",
   "metadata": {},
   "outputs": [
    {
     "ename": "ModuleNotFoundError",
     "evalue": "No module named 'math_functions'",
     "output_type": "error",
     "traceback": [
      "\u001b[31m---------------------------------------------------------------------------\u001b[39m",
      "\u001b[31mModuleNotFoundError\u001b[39m                       Traceback (most recent call last)",
      "\u001b[36mCell\u001b[39m\u001b[36m \u001b[39m\u001b[32mIn[14]\u001b[39m\u001b[32m, line 1\u001b[39m\n\u001b[32m----> \u001b[39m\u001b[32m1\u001b[39m \u001b[38;5;28;01mimport\u001b[39;00m\u001b[38;5;250m \u001b[39m\u001b[34;01mDemo_Project\u001b[39;00m\u001b[34;01m.\u001b[39;00m\u001b[34;01mfrom_keyword_demo\u001b[39;00m\n",
      "\u001b[36mFile \u001b[39m\u001b[32me:\\SSSSO-RR-District-Skill-Development-Training\\live_python_code\\May_2025\\june_8_2025_Packages\\Demo_Project\\from_keyword_demo.py:1\u001b[39m\n\u001b[32m----> \u001b[39m\u001b[32m1\u001b[39m \u001b[38;5;28;01mfrom\u001b[39;00m\u001b[38;5;250m \u001b[39m\u001b[34;01mmath_functions\u001b[39;00m\u001b[38;5;250m \u001b[39m\u001b[38;5;28;01mimport\u001b[39;00m addition\n\u001b[32m      2\u001b[39m \u001b[38;5;28;01mfrom\u001b[39;00m\u001b[38;5;250m \u001b[39m\u001b[34;01mmath_function_copy\u001b[39;00m\u001b[38;5;250m \u001b[39m\u001b[38;5;28;01mimport\u001b[39;00m addition \u001b[38;5;28;01mas\u001b[39;00m add, addition_copy\n\u001b[32m      3\u001b[39m a = \u001b[32m10\u001b[39m\n",
      "\u001b[31mModuleNotFoundError\u001b[39m: No module named 'math_functions'"
     ]
    }
   ],
   "source": [
    "import Demo_Project.from_keyword_demo"
   ]
  },
  {
   "cell_type": "markdown",
   "id": "acaf2f26",
   "metadata": {},
   "source": [
    "### using_modules_demo.py internally importing other modules:\n",
    "    ### import my_utils\n",
    "    ### import math_functions"
   ]
  },
  {
   "cell_type": "code",
   "execution_count": 13,
   "id": "7bb9b007",
   "metadata": {},
   "outputs": [
    {
     "ename": "ModuleNotFoundError",
     "evalue": "No module named 'my_utils'",
     "output_type": "error",
     "traceback": [
      "\u001b[31m---------------------------------------------------------------------------\u001b[39m",
      "\u001b[31mModuleNotFoundError\u001b[39m                       Traceback (most recent call last)",
      "\u001b[36mCell\u001b[39m\u001b[36m \u001b[39m\u001b[32mIn[13]\u001b[39m\u001b[32m, line 1\u001b[39m\n\u001b[32m----> \u001b[39m\u001b[32m1\u001b[39m \u001b[38;5;28;01mimport\u001b[39;00m\u001b[38;5;250m \u001b[39m\u001b[34;01mDemo_Project\u001b[39;00m\u001b[34;01m.\u001b[39;00m\u001b[34;01musing_modules_demo\u001b[39;00m\n\u001b[32m      2\u001b[39m \u001b[38;5;28mprint\u001b[39m(\u001b[38;5;28mdir\u001b[39m(Demo_Project))\n",
      "\u001b[36mFile \u001b[39m\u001b[32me:\\SSSSO-RR-District-Skill-Development-Training\\live_python_code\\May_2025\\june_8_2025_Packages\\Demo_Project\\using_modules_demo.py:1\u001b[39m\n\u001b[32m----> \u001b[39m\u001b[32m1\u001b[39m \u001b[38;5;28;01mimport\u001b[39;00m\u001b[38;5;250m \u001b[39m\u001b[34;01mmy_utils\u001b[39;00m\n\u001b[32m      2\u001b[39m \u001b[38;5;28;01mimport\u001b[39;00m\u001b[38;5;250m \u001b[39m\u001b[34;01mmath_functions\u001b[39;00m\n\u001b[32m      4\u001b[39m my_utils.greet(\u001b[33m\"\u001b[39m\u001b[33mAlice\u001b[39m\u001b[33m\"\u001b[39m)\n",
      "\u001b[31mModuleNotFoundError\u001b[39m: No module named 'my_utils'"
     ]
    }
   ],
   "source": [
    "import Demo_Project.using_modules_demo\n",
    "print(dir(Demo_Project))"
   ]
  },
  {
   "cell_type": "code",
   "execution_count": 15,
   "id": "c47f9d5d",
   "metadata": {},
   "outputs": [
    {
     "name": "stdout",
     "output_type": "stream",
     "text": [
      "['__builtins__', '__cached__', '__doc__', '__file__', '__loader__', '__name__', '__package__', '__path__', '__spec__', 'math_functions']\n"
     ]
    }
   ],
   "source": [
    "print(dir(Demo_Project))"
   ]
  },
  {
   "cell_type": "code",
   "execution_count": null,
   "id": "69ae270b",
   "metadata": {},
   "outputs": [
    {
     "ename": "ModuleNotFoundError",
     "evalue": "No module named 'math_functions'",
     "output_type": "error",
     "traceback": [
      "\u001b[31m---------------------------------------------------------------------------\u001b[39m",
      "\u001b[31mModuleNotFoundError\u001b[39m                       Traceback (most recent call last)",
      "\u001b[36mCell\u001b[39m\u001b[36m \u001b[39m\u001b[32mIn[3]\u001b[39m\u001b[32m, line 5\u001b[39m\n\u001b[32m      1\u001b[39m \u001b[38;5;66;03m# In calculator.py, imports are like this:\u001b[39;00m\n\u001b[32m      2\u001b[39m \u001b[38;5;66;03m# from math_functions import addition\u001b[39;00m\n\u001b[32m      3\u001b[39m \u001b[38;5;66;03m# from math_function_copy import addition_copy\u001b[39;00m\n\u001b[32m----> \u001b[39m\u001b[32m5\u001b[39m \u001b[38;5;28;01mimport\u001b[39;00m\u001b[38;5;250m \u001b[39m\u001b[34;01mDemo_Project\u001b[39;00m\u001b[34;01m.\u001b[39;00m\u001b[34;01mcalculator_wrong\u001b[39;00m\n\u001b[32m      6\u001b[39m \u001b[38;5;28mprint\u001b[39m(\u001b[38;5;28mdir\u001b[39m(Demo_Project))\n",
      "\u001b[36mFile \u001b[39m\u001b[32me:\\SSSSO-RR-District-Skill-Development-Training\\live_python_code\\May_2025\\june_8_2025_Packages\\Demo_Project\\calculator_wrong.py:1\u001b[39m\n\u001b[32m----> \u001b[39m\u001b[32m1\u001b[39m \u001b[38;5;28;01mfrom\u001b[39;00m\u001b[38;5;250m \u001b[39m\u001b[34;01mmath_functions\u001b[39;00m\u001b[38;5;250m \u001b[39m\u001b[38;5;28;01mimport\u001b[39;00m addition\n\u001b[32m      2\u001b[39m \u001b[38;5;28;01mfrom\u001b[39;00m\u001b[38;5;250m \u001b[39m\u001b[34;01mmath_function_copy\u001b[39;00m\u001b[38;5;250m \u001b[39m\u001b[38;5;28;01mimport\u001b[39;00m addition_copy\n",
      "\u001b[31mModuleNotFoundError\u001b[39m: No module named 'math_functions'"
     ]
    }
   ],
   "source": [
    "# In calculator_wrong.py, imports are like this:\n",
    "# from math_functions import addition\n",
    "# from math_function_copy import addition_copy\n",
    "\n",
    "import Demo_Project.calculator_wrong\n",
    "print(dir(Demo_Project))"
   ]
  },
  {
   "cell_type": "code",
   "execution_count": null,
   "id": "d9757eec",
   "metadata": {},
   "outputs": [
    {
     "name": "stdout",
     "output_type": "stream",
     "text": [
      "['__builtins__', '__cached__', '__doc__', '__file__', '__loader__', '__name__', '__package__', '__path__', '__spec__', 'calculator_correct', 'math_function_copy', 'math_functions']\n"
     ]
    }
   ],
   "source": [
    "# In calculator_correct.py, imports are like this:\n",
    "# from .math_functions import addition\n",
    "# from .math_function_copy import addition_copy\n",
    "\n",
    "\n",
    "import Demo_Project.calculator_correct\n",
    "print(dir(Demo_Project))"
   ]
  },
  {
   "cell_type": "code",
   "execution_count": 5,
   "id": "842581f7",
   "metadata": {},
   "outputs": [
    {
     "ename": "ModuleNotFoundError",
     "evalue": "No module named 'math_functions'",
     "output_type": "error",
     "traceback": [
      "\u001b[31m---------------------------------------------------------------------------\u001b[39m",
      "\u001b[31mModuleNotFoundError\u001b[39m                       Traceback (most recent call last)",
      "\u001b[36mCell\u001b[39m\u001b[36m \u001b[39m\u001b[32mIn[5]\u001b[39m\u001b[32m, line 5\u001b[39m\n\u001b[32m      1\u001b[39m \u001b[38;5;66;03m# In calculator_wrong.py, imports are like this:\u001b[39;00m\n\u001b[32m      2\u001b[39m \u001b[38;5;66;03m# from math_functions import addition\u001b[39;00m\n\u001b[32m      3\u001b[39m \u001b[38;5;66;03m# from math_function_copy import addition_copy\u001b[39;00m\n\u001b[32m----> \u001b[39m\u001b[32m5\u001b[39m \u001b[38;5;28;01mimport\u001b[39;00m\u001b[38;5;250m \u001b[39m\u001b[34;01mDemo_Project\u001b[39;00m\u001b[34;01m.\u001b[39;00m\u001b[34;01mcalculator_wrong\u001b[39;00m\n\u001b[32m      6\u001b[39m \u001b[38;5;28mprint\u001b[39m(\u001b[38;5;28mdir\u001b[39m(Demo_Project))\n",
      "\u001b[36mFile \u001b[39m\u001b[32me:\\SSSSO-RR-District-Skill-Development-Training\\live_python_code\\May_2025\\june_8_2025_Packages\\Demo_Project\\calculator_wrong.py:5\u001b[39m\n\u001b[32m      1\u001b[39m \u001b[33;03m'''\u001b[39;00m\n\u001b[32m      2\u001b[39m \u001b[33;03mThis script is not fit to be used in packages.\u001b[39;00m\n\u001b[32m      3\u001b[39m \u001b[33;03mThe following imports will work correctly only when you run as aa individual script.'''\u001b[39;00m\n\u001b[32m----> \u001b[39m\u001b[32m5\u001b[39m \u001b[38;5;28;01mfrom\u001b[39;00m\u001b[38;5;250m \u001b[39m\u001b[34;01mmath_functions\u001b[39;00m\u001b[38;5;250m \u001b[39m\u001b[38;5;28;01mimport\u001b[39;00m addition\n\u001b[32m      6\u001b[39m \u001b[38;5;28;01mfrom\u001b[39;00m\u001b[38;5;250m \u001b[39m\u001b[34;01mmath_function_copy\u001b[39;00m\u001b[38;5;250m \u001b[39m\u001b[38;5;28;01mimport\u001b[39;00m addition_copy\n\u001b[32m      8\u001b[39m addition_result = addition(\u001b[32m5\u001b[39m, \u001b[32m3\u001b[39m)\n",
      "\u001b[31mModuleNotFoundError\u001b[39m: No module named 'math_functions'"
     ]
    }
   ],
   "source": [
    "# In calculator_wrong.py, imports are like this:\n",
    "# from math_functions import addition\n",
    "# from math_function_copy import addition_copy\n",
    "\n",
    "import Demo_Project.calculator_wrong\n",
    "print(dir(Demo_Project))"
   ]
  }
 ],
 "metadata": {
  "kernelspec": {
   "display_name": "Python 3",
   "language": "python",
   "name": "python3"
  },
  "language_info": {
   "codemirror_mode": {
    "name": "ipython",
    "version": 3
   },
   "file_extension": ".py",
   "mimetype": "text/x-python",
   "name": "python",
   "nbconvert_exporter": "python",
   "pygments_lexer": "ipython3",
   "version": "3.13.3"
  }
 },
 "nbformat": 4,
 "nbformat_minor": 5
}
